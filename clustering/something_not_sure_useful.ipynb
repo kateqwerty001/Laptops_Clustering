{
 "cells": [
  {
   "cell_type": "code",
   "execution_count": 12,
   "metadata": {},
   "outputs": [],
   "source": [
    "import pandas as pd\n",
    "import numpy as np\n",
    "\n",
    "data = pd.read_csv('../data/our_data_preprocessed.csv')"
   ]
  },
  {
   "cell_type": "code",
   "execution_count": 13,
   "metadata": {},
   "outputs": [
    {
     "data": {
      "text/plain": [
       "Index(['Price', 'Rating', 'processor_tier', 'num_cores', 'num_threads',\n",
       "       'ram_memory', 'primary_storage_capacity', 'secondary_storage_capacity',\n",
       "       'is_touch_screen', 'display_size', 'resolution_width',\n",
       "       'resolution_height', 'year_of_warranty', 'total_number_of_pixels',\n",
       "       'total_pixels_per_square_of_diag', 'gpu_brand_amd', 'gpu_brand_apple',\n",
       "       'gpu_brand_intel', 'gpu_brand_nvidia', 'gpu_type_integrated',\n",
       "       'OS_chrome', 'OS_other', 'OS_ubuntu', 'OS_windows', 'brand_acer',\n",
       "       'brand_asus', 'brand_avita', 'brand_chuwi', 'brand_dell',\n",
       "       'brand_fujitsu', 'brand_gigabyte', 'brand_honor', 'brand_hp',\n",
       "       'brand_iball', 'brand_infinix', 'brand_jio', 'brand_lenovo', 'brand_lg',\n",
       "       'brand_microsoft', 'brand_msi', 'brand_realme', 'brand_samsung',\n",
       "       'brand_tecno', 'brand_ultimus', 'brand_walker', 'brand_wings',\n",
       "       'brand_zebronics', 'processor_brand_amd', 'processor_brand_intel',\n",
       "       'primary_storage_type_SSD'],\n",
       "      dtype='object')"
      ]
     },
     "execution_count": 13,
     "metadata": {},
     "output_type": "execute_result"
    }
   ],
   "source": [
    "data.columns"
   ]
  },
  {
   "cell_type": "code",
   "execution_count": 14,
   "metadata": {},
   "outputs": [],
   "source": [
    "data = data.drop(columns=['total_pixels_per_square_of_diag'])"
   ]
  },
  {
   "cell_type": "code",
   "execution_count": 15,
   "metadata": {},
   "outputs": [],
   "source": [
    "# save scv ('../data/our_data_preprocessed_MinMaxScaler.csv', data)\n",
    "\n",
    "data.to_csv('../data/our_data_preprocessed.csv', index=False)"
   ]
  },
  {
   "cell_type": "code",
   "execution_count": null,
   "metadata": {},
   "outputs": [],
   "source": []
  }
 ],
 "metadata": {
  "kernelspec": {
   "display_name": "6.86x",
   "language": "python",
   "name": "python3"
  },
  "language_info": {
   "codemirror_mode": {
    "name": "ipython",
    "version": 3
   },
   "file_extension": ".py",
   "mimetype": "text/x-python",
   "name": "python",
   "nbconvert_exporter": "python",
   "pygments_lexer": "ipython3",
   "version": "3.8.17"
  }
 },
 "nbformat": 4,
 "nbformat_minor": 2
}
