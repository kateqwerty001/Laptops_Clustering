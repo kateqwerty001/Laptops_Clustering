{
 "cells": [
  {
   "cell_type": "code",
   "execution_count": 2,
   "metadata": {},
   "outputs": [
    {
     "name": "stderr",
     "output_type": "stream",
     "text": [
      "C:\\Users\\marty\\AppData\\Local\\Temp\\ipykernel_24112\\2047932970.py:1: DeprecationWarning: \n",
      "Pyarrow will become a required dependency of pandas in the next major release of pandas (pandas 3.0),\n",
      "(to allow more performant data types, such as the Arrow string type, and better interoperability with other libraries)\n",
      "but was not found to be installed on your system.\n",
      "If this would cause problems for you,\n",
      "please provide us feedback at https://github.com/pandas-dev/pandas/issues/54466\n",
      "        \n",
      "  import pandas as pd\n"
     ]
    }
   ],
   "source": [
    "import pandas as pd\n",
    "from sklearn.pipeline import Pipeline\n",
    "from sklearn.preprocessing import FunctionTransformer"
   ]
  },
  {
   "cell_type": "code",
   "execution_count": 1,
   "metadata": {},
   "outputs": [],
   "source": [
    "def add_new_columns(data):\n",
    "    data = data.copy()\n",
    "    data['total_number_of_pixels'] = data['resolution_height'] * data['resolution_width']\n",
    "    return data"
   ]
  },
  {
   "cell_type": "code",
   "execution_count": 3,
   "metadata": {},
   "outputs": [],
   "source": [
    "def convert_currency(data, currency_rate=0.012):\n",
    "    data = data.copy()\n",
    "    data['Price'] = (data['Price'] * currency_rate).round(2)\n",
    "    return data"
   ]
  },
  {
   "cell_type": "code",
   "execution_count": null,
   "metadata": {},
   "outputs": [],
   "source": [
    "def drop_columns(data):\n",
    "    return data.drop(columns=['secondary_storage_type','Model', 'index'])"
   ]
  },
  {
   "cell_type": "code",
   "execution_count": null,
   "metadata": {},
   "outputs": [],
   "source": [
    "preprocessor = ColumnTransformer(\n",
    "    transformers=[\n",
    "        ('gpu_brand', OneHotEncoder(drop='first'), ['gpu_brand']),\n",
    "        ('gpu_type', OneHotEncoder(drop='first'), ['gpu_type']),\n",
    "        ('OS', OneHotEncoder(drop='first', sparse_output=False), ['OS']),\n",
    "        ('brand', OneHotEncoder(drop='first', sparse_output=False), ['brand']),\n",
    "        ('processor_brand', OneHotEncoder(drop='first', sparse_output=False), ['processor_brand']),\n",
    "        ('primary_storage_type', OneHotEncoder(drop='first', sparse_output=False), ['primary_storage_type']),\n",
    "        ('scaler', MinMaxScaler(), ['Price', 'Rating', 'num_cores', 'num_threads', 'ram_memory','primary_storage_capacity', 'secondary_storage_capacity','display_size', 'resolution_height', 'resolution_width','total_number_of_pixels'])\n",
    "    ],\n",
    "    remainder='passthrough'\n",
    ")"
   ]
  },
  {
   "cell_type": "code",
   "execution_count": null,
   "metadata": {},
   "outputs": [],
   "source": [
    "def transform_year_of_warranty(data):\n",
    "    data = data.copy()\n",
    "    data['year_of_warranty'] = data['year_of_warranty'].map({\n",
    "        '1': 1,\n",
    "        '2': 2,\n",
    "        '3': 3,\n",
    "        'No information': 0\n",
    "    })\n",
    "    return data"
   ]
  },
  {
   "cell_type": "code",
   "execution_count": null,
   "metadata": {},
   "outputs": [],
   "source": [
    "def convert_is_touch_screen(data):\n",
    "    data = data.copy()\n",
    "    data['is_touch_screen'] = data['is_touch_screen'].astype(int)\n",
    "    return data"
   ]
  },
  {
   "cell_type": "code",
   "execution_count": null,
   "metadata": {},
   "outputs": [],
   "source": [
    "def drop_columns_after_transformations(data)\n",
    "    return data.drop(columns= ['gpu_brand_arm', 'gpu_type_dedicated', 'OS_dos', 'brand_primebook', 'processor_brand_other', 'primary_storage_type_HDD', 'gpu_type_apple', 'OS_mac', 'processor_brand_apple', 'brand_apple'])"
   ]
  },
  {
   "cell_type": "code",
   "execution_count": null,
   "metadata": {},
   "outputs": [],
   "source": [
    "def log_transform(data):\n",
    "    data = data.copy()\n",
    "    data['Price'] = np.log(data['Price'])\n",
    "    data['num_cores'] = np.log(data['num_cores'])\n",
    "    data['resolution_height'] = np.log(data['resolution_height'])\n",
    "    data['resolution_width'] = np.log(data['resolution_width'])\n",
    "    data['total_number_of_pixels'] = np.log(data['total_number_of_pixels'])\n",
    "    return data"
   ]
  },
  {
   "cell_type": "code",
   "execution_count": null,
   "metadata": {},
   "outputs": [],
   "source": [
    "def power(data):\n",
    "    data = data.copy()\n",
    "    data['Rating'] = np.power(data['Rating'], 2)\n",
    "    data['num_threads'] = np.power(data['num_threads'], 0.75)\n",
    "    data['display_size'] = np.power(data['display_size'], 5)\n",
    "    return data"
   ]
  },
  {
   "cell_type": "code",
   "execution_count": null,
   "metadata": {},
   "outputs": [],
   "source": [
    "def transform_capacity(data):\n",
    "    capacity_map = {\n",
    "        0: 0,\n",
    "        32: 1,\n",
    "        64: 2,\n",
    "        128: 3,\n",
    "        256: 4,\n",
    "        512: 5,\n",
    "        1024: 6,\n",
    "        2048: 7\n",
    "    }\n",
    "    data = data.copy()\n",
    "    data['primary_storage_capacity'] = data['primary_storage_capacity'].map(capacity_map)\n",
    "    data['secondary_storage_capacity'] = data['secondary_storage_capacity'].map(capacity_map)\n",
    "    return data"
   ]
  },
  {
   "cell_type": "code",
   "execution_count": null,
   "metadata": {},
   "outputs": [],
   "source": [
    "def transform_processor_tier(data):\n",
    "    processor_tier_map = {\n",
    "        'other': 0,\n",
    "        'celeron': 1,\n",
    "        'pentium': 2,\n",
    "        'core i3': 3,\n",
    "        'ryzen 3': 3,\n",
    "        'core i5': 4,\n",
    "        'ryzen 5': 4,\n",
    "        'core i7': 5,\n",
    "        'ryzen 7': 5,\n",
    "        'core ultra 7': 5,\n",
    "        'core i9': 6,\n",
    "        'ryzen 9': 6,\n",
    "        'm1': 7,\n",
    "        'm2': 7,\n",
    "        'm3': 7\n",
    "    }\n",
    "    data = data.copy()\n",
    "    data['processor_tier'] = data['processor_tier'].map(processor_tier_map)\n",
    "    return data"
   ]
  },
  {
   "cell_type": "code",
   "execution_count": null,
   "metadata": {},
   "outputs": [],
   "source": [
    "pipeline = Pipeline(steps=[\n",
    "    ('add_total_number_of_pixels', FunctionTransformer(add_total_number_of_pixels, validate=False)),\n",
    "    ('convert_currency', FunctionTransformer(convert_currency, kw_args={'currency_rate': 0.012}, validate=False)),\n",
    "    ('drop_columns', FunctionTransformer(drop_columns, validate=False)),\n",
    "    ('transform_year_of_warranty', FunctionTransformer(transform_year_of_warranty, validate=False)),\n",
    "    ('convert_is_touch_screen', FunctionTransformer(convert_is_touch_screen, validate=False)),\n",
    "    ('log_transform', FunctionTransformer(log_transform, validate=False)),\n",
    "    ('power', FunctionTransformer(power, validate=False)),\n",
    "    ('transform_capacity', FunctionTransformer(transform_capacity, validate=False)),\n",
    "    ('transform_processor_tier', FunctionTransformer(transform_processor_tier, validate=False)),\n",
    "    ('preprocess', preprocessor),\n",
    "    ('drop_columns_after_transformations', FunctionTransformer(drop_columns_after_transformations, validate=False))\n",
    "\n",
    "])"
   ]
  },
  {
   "cell_type": "code",
   "execution_count": null,
   "metadata": {},
   "outputs": [],
   "source": [
    "data_preprocessed = pipeline.fit_transform(data)"
   ]
  }
 ],
 "metadata": {
  "kernelspec": {
   "display_name": "Python 3",
   "language": "python",
   "name": "python3"
  },
  "language_info": {
   "codemirror_mode": {
    "name": "ipython",
    "version": 3
   },
   "file_extension": ".py",
   "mimetype": "text/x-python",
   "name": "python",
   "nbconvert_exporter": "python",
   "pygments_lexer": "ipython3",
   "version": "3.12.1"
  }
 },
 "nbformat": 4,
 "nbformat_minor": 2
}
